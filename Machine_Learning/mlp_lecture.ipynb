{
 "cells": [
  {
   "cell_type": "markdown",
   "id": "fbfc65bc-1545-41f0-ad29-567a984fc6c5",
   "metadata": {},
   "source": [
    "# Многослойный персептрон"
   ]
  },
  {
   "cell_type": "markdown",
   "id": "c77ca8c0-40b5-4f36-aae0-5fb9004d1744",
   "metadata": {},
   "source": [
    "Проделываем все базовые операции"
   ]
  },
  {
   "cell_type": "code",
   "execution_count": 4,
   "id": "7b25c2ae-e9e7-4aa9-badf-3f778d89e59c",
   "metadata": {},
   "outputs": [],
   "source": [
    "# Библиотеки\n",
    "\n",
    "import numpy as np\n",
    "from sklearn.model_selection import train_test_split\n",
    "from sklearn.preprocessing import StandardScaler\n",
    "from sklearn.neural_network import MLPClassifier\n",
    "from sklearn.datasets import load_iris\n",
    "from sklearn.metrics import accuracy_score"
   ]
  },
  {
   "cell_type": "code",
   "execution_count": 5,
   "id": "8200110c-2839-4b66-b2da-eb89ad2b459d",
   "metadata": {},
   "outputs": [],
   "source": [
    "# Загрузка датасетов\n",
    "\n",
    "iris = load_iris()\n",
    "X, y = iris.data, iris.target\n",
    "\n",
    "# Деление на train и test\n",
    "\n",
    "X_train, X_test, y_train, y_test = train_test_split(X, y, test_size=0.2, random_state=42)  # random_state нужен для воспроизводимости"
   ]
  },
  {
   "cell_type": "code",
   "execution_count": 6,
   "id": "248bdd1f-e348-4a2b-84f0-0b4ffe10e6b0",
   "metadata": {},
   "outputs": [],
   "source": [
    "# Стандартизирование\n",
    "\n",
    "scaler = StandardScaler()\n",
    "\n",
    "X_train = scaler.fit_transform(X_train)\n",
    "X_test = scaler.transform(X_test)"
   ]
  },
  {
   "cell_type": "markdown",
   "id": "547c2f88-9d5d-480f-bc6d-5b178975bde8",
   "metadata": {},
   "source": [
    "Теперь начинаем работать с самим персептроном"
   ]
  },
  {
   "cell_type": "code",
   "execution_count": 7,
   "id": "dfb9546c-f3f9-4803-b298-6d1c597ea9f9",
   "metadata": {},
   "outputs": [],
   "source": [
    "# Создание персептрона\n",
    "\n",
    "clf = MLPClassifier(hidden_layer_sizes=(64, 32), max_iter=1000, random_state=42)\n",
    "\n",
    "# Тренируем модель\n",
    "\n",
    "clf.fit(X_train, y_train)\n",
    "\n",
    "# Делаем предсказание\n",
    "\n",
    "y_pred = clf.predict(X_test)"
   ]
  },
  {
   "cell_type": "markdown",
   "id": "facd8f2e-b18f-44f7-b00d-c3e768569813",
   "metadata": {},
   "source": [
    "## Пояснение параматров\n",
    "\n",
    "hidden_layer_sizes - задаёт слои и кол-во нейронов в каждом случае\n",
    "\n",
    "max_iter - кол-во сколько раз будем прогонять функцию\n",
    "\n",
    "activation - функция активации, по умолчанию ReLu, но также может быть сигма-функция или гиперболический тангенс\n",
    "\n",
    "alpha - коэф. регуляризации, по умолчанию 0.0001\n",
    "\n",
    "learning_rate - скорость обучения, по умолчанию она постоянна 'constant', но может также и быть переменной\n",
    "\n",
    "power_t - масштабирут learning_rate, но только если solver sgd (по умолчанию он adam, который наиболее сбалансирован)\n",
    "\n",
    "early_stopping - ранняя остановка, позволяет останавливаться до конца итераций, если функция ошибок не изменяется (как раз наша задача состоит в её минимизации), потому лучше ставить True"
   ]
  },
  {
   "cell_type": "markdown",
   "id": "22c4bb19-fa46-4624-9129-f3678e130226",
   "metadata": {},
   "source": [
    "## Работа с TensorFlow"
   ]
  },
  {
   "cell_type": "code",
   "execution_count": null,
   "id": "9a1b5b4c-7c22-459c-a356-85c8a8dc5e22",
   "metadata": {},
   "outputs": [],
   "source": [
    "from tensorflow.keras.datasets import mnist\n",
    "import matplotlib.pyplot as plt"
   ]
  },
  {
   "cell_type": "code",
   "execution_count": null,
   "id": "3e26b718-efca-4644-8f9b-6227f3c187b5",
   "metadata": {},
   "outputs": [],
   "source": [
    "# Загрузка датасета. Синтаксис простой за счёт keras\n",
    "\n",
    "(X_train, y_train), (_, _) = mnist.load_data()"
   ]
  },
  {
   "cell_type": "markdown",
   "id": "eb4c17be-84f4-4590-97ea-50d860519a37",
   "metadata": {},
   "source": [
    "## Работа с PyTorch"
   ]
  },
  {
   "cell_type": "code",
   "execution_count": null,
   "id": "77c973f9-5c34-4533-8539-fd13a100620e",
   "metadata": {},
   "outputs": [],
   "source": [
    "import torch\n",
    "from torchvision import datasets, transforms"
   ]
  },
  {
   "cell_type": "code",
   "execution_count": null,
   "id": "020ba1d2-2a37-4bb2-9da7-5629d35b9fd9",
   "metadata": {},
   "outputs": [],
   "source": [
    "# Преобразуем данные в тензера\n",
    "\n",
    "transform = transforms.Compose([transforms.ToTensor()])\n",
    "\n",
    "# Загружаем датасет с преобразованием\n",
    "\n",
    "mnist_pytorch = datasets.MNIST(root=\"./data\", train=True, download=True, transform=transform)"
   ]
  }
 ],
 "metadata": {
  "kernelspec": {
   "display_name": "local",
   "language": "python",
   "name": "local"
  },
  "language_info": {
   "codemirror_mode": {
    "name": "ipython",
    "version": 3
   },
   "file_extension": ".py",
   "mimetype": "text/x-python",
   "name": "python",
   "nbconvert_exporter": "python",
   "pygments_lexer": "ipython3",
   "version": "3.13.7"
  }
 },
 "nbformat": 4,
 "nbformat_minor": 5
}
